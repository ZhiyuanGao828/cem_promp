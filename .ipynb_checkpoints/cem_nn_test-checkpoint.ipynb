{
 "cells": [
  {
   "cell_type": "code",
   "execution_count": 59,
   "id": "f6b02514",
   "metadata": {},
   "outputs": [],
   "source": [
    "import torch\n",
    "import torch.nn as nn\n",
    "import numpy as np\n",
    "import torch.optim as optim\n",
    "import os\n",
    "from torch.distributions.multivariate_normal import MultivariateNormal\n",
    "from utils import *\n",
    "from cem import CEM"
   ]
  },
  {
   "cell_type": "code",
   "execution_count": 24,
   "id": "dedea458",
   "metadata": {},
   "outputs": [],
   "source": [
    "class Actor(nn.Module):\n",
    "    def __init__(self):\n",
    "        super(Actor, self).__init__()\n",
    "        self.stds = torch.Tensor([ 0.1,  0.1])\n",
    "        # nn.Parameter(torch.ones(n_actions))*0.1\n",
    "        self.actor = nn.Sequential(\n",
    "            nn.Linear(2, 8),\n",
    "            nn.Tanh(),\n",
    "            nn.Linear(8, 8),\n",
    "            nn.Tanh(),\n",
    "            nn.Linear(8, 2),\n",
    "            nn.Sigmoid()\n",
    "            )\n",
    "\n",
    "    def forward(self, state):\n",
    "        mu= self.actor(state.float())\n",
    "        k=torch.Tensor([10,10])    \n",
    "        dist = MultivariateNormal(loc=mu*k,scale_tril=torch.diag(self.stds) )\n",
    "        return dist"
   ]
  },
  {
   "cell_type": "code",
   "execution_count": 52,
   "id": "67664eaa",
   "metadata": {},
   "outputs": [],
   "source": [
    "# 112个参数\n",
    "def get_para_array(model):\n",
    "    para=np.zeros(114)\n",
    "    para[:16] = model.state_dict()['actor.0.weight'].reshape(-1).numpy()\n",
    "    para[16:24] = model.state_dict()['actor.0.bias'].reshape(-1).numpy()\n",
    "    para[24:88] = model.state_dict()['actor.2.weight'].reshape(-1).numpy()\n",
    "    para[88:96] = model.state_dict()['actor.2.bias'].reshape(-1).numpy()\n",
    "    para[96:112] = model.state_dict()['actor.4.weight'].reshape(-1).numpy()\n",
    "    para[112:114] = model.state_dict()['actor.4.bias'].reshape(-1).numpy()\n",
    "    \n",
    "    return para\n",
    "\n",
    "def update_para_tensor(model,para_array):\n",
    "    tensor_list=[]\n",
    "    tensor_list.append(torch.from_numpy(para_array[:16].reshape([8,2])))\n",
    "    tensor_list.append(torch.from_numpy(para_array[16:24]))\n",
    "    tensor_list.append(torch.from_numpy(para_array[24:88].reshape([8,8])))\n",
    "    tensor_list.append(torch.from_numpy(para_array[88:96]))\n",
    "    tensor_list.append(torch.from_numpy(para_array[96:112].reshape([2,8])))\n",
    "    tensor_list.append(torch.from_numpy(para_array[112:114]))\n",
    "\n",
    "    model.state_dict()['actor.0.weight'].copy_(tensor_list[0])\n",
    "    model.state_dict()['actor.0.bias'].copy_(tensor_list[1])\n",
    "    model.state_dict()['actor.2.weight'].copy_(tensor_list[2])\n",
    "    model.state_dict()['actor.2.bias'].copy_(tensor_list[3])\n",
    "    model.state_dict()['actor.4.weight'].copy_(tensor_list[4])\n",
    "    model.state_dict()['actor.4.bias'].copy_(tensor_list[5])\n",
    "    "
   ]
  },
  {
   "cell_type": "code",
   "execution_count": 50,
   "id": "4cbaa531",
   "metadata": {},
   "outputs": [],
   "source": [
    "actor0= Actor()\n",
    "actor1=Actor()"
   ]
  },
  {
   "cell_type": "code",
   "execution_count": 54,
   "id": "3f020a91",
   "metadata": {
    "collapsed": true
   },
   "outputs": [
    {
     "name": "stdout",
     "output_type": "stream",
     "text": [
      "[ 0.6624102   0.24570702 -0.44772074  0.66458333 -0.39292738 -0.43094283\n",
      " -0.31967053 -0.01565401  0.0952786  -0.16697283 -0.53383946  0.21719509\n",
      " -0.61183792  0.45556772  0.38862252 -0.68930185  0.68955082 -0.41524971\n",
      "  0.60318816 -0.26063037 -0.60220724 -0.18454503  0.08685833 -0.0158516\n",
      "  0.04637527 -0.14936754 -0.32955059  0.05509659  0.05147361  0.12830672\n",
      " -0.20458093 -0.09651708  0.09282409 -0.23673543 -0.03014144  0.31081828\n",
      " -0.29454404 -0.27055755  0.2325151  -0.07242712 -0.01150537  0.09447389\n",
      " -0.14871469  0.16145703 -0.06680153 -0.1979243   0.17218357  0.27208021\n",
      " -0.03973284  0.2898781  -0.25286561  0.2935766  -0.01721412 -0.32707715\n",
      "  0.07755303 -0.34333017 -0.34702757 -0.06422704 -0.07572891  0.32279441\n",
      "  0.31429777  0.1649816  -0.34230334 -0.0645887   0.07103392 -0.3138372\n",
      " -0.07098182 -0.19776911 -0.02629344 -0.30919307  0.28441775 -0.01471283\n",
      " -0.16113739  0.24718253 -0.03725853 -0.11239473 -0.28732151 -0.22323041\n",
      "  0.13027233 -0.01933154  0.1386203  -0.26064095 -0.13946329 -0.16138496\n",
      " -0.26265326  0.00160171 -0.33818698  0.09858519 -0.19484922  0.26457253\n",
      " -0.13953212  0.15784581  0.10408982 -0.09879297 -0.12112793 -0.27566406\n",
      "  0.25949162 -0.22573876  0.01642796 -0.03077875  0.35019174 -0.13586757\n",
      " -0.07765051  0.28713021  0.22614409 -0.30027801 -0.10940521  0.27097577\n",
      " -0.15755802 -0.27625448 -0.31280875  0.31149891 -0.15644561 -0.34821621]\n",
      "[ 6.62410200e-01  2.45707020e-01 -4.47720736e-01  6.64583325e-01\n",
      " -3.92927378e-01 -4.30942833e-01 -3.19670528e-01 -1.56540144e-02\n",
      "  9.52785984e-02 -1.66972831e-01 -5.33839464e-01  2.17195094e-01\n",
      " -6.11837924e-01  4.55567718e-01  3.88622522e-01 -6.89301848e-01\n",
      "  2.11573377e-01  5.97183742e-02  4.15582657e-01  2.32472569e-01\n",
      "  4.23629671e-01  6.12334788e-01 -5.90960741e-01 -4.23015088e-01\n",
      "  3.35926652e-01 -1.56492088e-02 -4.07449156e-02  2.26822533e-02\n",
      " -2.96871424e-01  2.81500787e-01  9.61460248e-02  2.56268054e-01\n",
      " -8.06859229e-03 -1.31445855e-01  1.08938977e-01 -6.36018291e-02\n",
      " -2.30184078e-01 -2.32558221e-01  1.14933357e-01 -1.82567030e-01\n",
      " -3.02305698e-01  3.15461159e-02 -3.53038609e-01  3.42883587e-01\n",
      " -1.21101297e-01 -2.59580165e-01  1.85479894e-01  2.88798511e-01\n",
      " -2.44276389e-01 -2.22657584e-02  5.09118326e-02 -1.57290101e-01\n",
      " -1.62269533e-01 -2.84439206e-01  1.64120749e-01 -1.17570445e-01\n",
      " -8.45133662e-02 -2.77438372e-01  1.99673265e-01 -2.66058296e-01\n",
      " -1.11964576e-01  2.65662670e-01 -2.66043365e-01 -3.11833322e-01\n",
      " -2.75400430e-01  1.96655422e-01  1.51854545e-01 -2.42601261e-01\n",
      " -2.30261803e-01  3.20948750e-01 -2.17807829e-01 -2.41502360e-01\n",
      " -4.40539941e-02 -5.65104943e-04 -1.02689236e-01 -2.96575099e-01\n",
      " -3.29464525e-01 -1.30232453e-01  3.38249892e-01 -2.30375350e-01\n",
      "  1.96028903e-01 -6.28856272e-02  1.74978286e-01  9.49953720e-02\n",
      " -3.50071669e-01 -2.84280241e-01  2.31924996e-01  2.37058610e-01\n",
      " -1.64720416e-02  1.28110405e-02 -3.01823646e-01 -1.14686586e-01\n",
      "  2.23673403e-01  3.09635103e-01 -3.09722275e-01 -1.97247118e-01\n",
      "  1.66094825e-02  2.83981204e-01  3.74148525e-02  6.37735724e-02\n",
      "  5.92976213e-02 -3.47196251e-01  2.13298827e-01 -1.00298412e-01\n",
      " -2.86885709e-01 -1.88548133e-01  1.41584322e-01 -2.74682105e-01\n",
      "  4.49615419e-02  4.44229469e-02 -3.24171543e-01 -2.05025911e-01\n",
      "  2.94672757e-01  3.37763578e-02]\n"
     ]
    }
   ],
   "source": [
    "para0=get_para_array(actor0)\n",
    "para1=get_para_array(actor1)\n",
    "print(para0)\n",
    "print(para1)"
   ]
  },
  {
   "cell_type": "code",
   "execution_count": null,
   "id": "0c871cc8",
   "metadata": {},
   "outputs": [],
   "source": [
    "policy= Actor()\n",
    "def nn_score(para):\n",
    "    limits= np.zeros([20,2])\n",
    "    via_point= []\n",
    "    score= np.zeros(20)\n",
    "    update_para_tensor(policy,para)\n",
    "    \n",
    "    for limit in limits:\n",
    "        via_point.append(policy.actor(limit))\n",
    "        \n",
    "    for i in range(20):\n",
    "        score[i] = get_reward(limits[i],via_point[i])\n",
    "        \n",
    "    return score.mean()\n",
    "        \n",
    "        \n",
    "    \n",
    "    \n",
    "    \n",
    "    "
   ]
  },
  {
   "cell_type": "code",
   "execution_count": null,
   "id": "4af41214",
   "metadata": {},
   "outputs": [],
   "source": [
    "# cem的get reward是nn的好坏\n"
   ]
  }
 ],
 "metadata": {
  "kernelspec": {
   "display_name": "base_env",
   "language": "python",
   "name": "base_env"
  },
  "language_info": {
   "codemirror_mode": {
    "name": "ipython",
    "version": 3
   },
   "file_extension": ".py",
   "mimetype": "text/x-python",
   "name": "python",
   "nbconvert_exporter": "python",
   "pygments_lexer": "ipython3",
   "version": "3.8.5"
  }
 },
 "nbformat": 4,
 "nbformat_minor": 5
}
