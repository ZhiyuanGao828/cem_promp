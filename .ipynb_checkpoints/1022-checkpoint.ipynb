{
 "cells": [
  {
   "cell_type": "code",
   "execution_count": 2,
   "id": "28ef2168",
   "metadata": {},
   "outputs": [
    {
     "name": "stdout",
     "output_type": "stream",
     "text": [
      "Using matplotlib backend: Qt5Agg\n"
     ]
    }
   ],
   "source": [
    "%matplotlib\n",
    "import intprim\n",
    "from intprim.probabilistic_movement_primitives import *\n",
    "import numpy as np\n",
    "import matplotlib.pyplot as plt\n",
    "from matplotlib.patches import Rectangle\n",
    "import random\n",
    "import pandas as pd\n",
    "from frechetdist import frdist\n",
    "import math\n",
    "from cem import CEM\n",
    "from utils import *\n",
    "dataset= np.load('/home/zhiyuan/notebook_script/0930/l_shape.npy')"
   ]
  },
  {
   "cell_type": "code",
   "execution_count": null,
   "id": "73676e56",
   "metadata": {},
   "outputs": [],
   "source": [
    "import numpy as np\n",
    "\n",
    "class CEM():\n",
    "    def __init__(self, func, mu_0, sigma_0,maxits=30,N=100, Ne=25,argmin=True,v_min=None, v_max=None, fix_time = False, init_scale=1):\n",
    "        self.func = func                  # target function\n",
    "        self.d = mu_0.shape[0]                     # dimension of function input X\n",
    "        self.maxits = maxits              # maximum iteration\n",
    "        self.N = N                        # sample N examples each iteration\n",
    "        self.Ne = Ne                      # using better Ne examples to update mu and sigma\n",
    "        self.reverse = not argmin         # try to maximum or minimum the target function\n",
    "        self.v_min = v_min                # the value minimum\n",
    "        self.v_max = v_max                # the value maximum\n",
    "        self.init_coef = init_scale       # sigma initial value\n",
    "        # self.epsilon=epsilon \n",
    "        self.state_buf=  np.zeros([maxits,self.d])\n",
    "        self.reward_buf=  np.zeros(maxits)\n",
    "        if fix_time == False:\n",
    "            self.dof = 3\n",
    "        else:\n",
    "            self.dof= 2\n",
    "        self.init_mu = mu_0\n",
    "        \n",
    "        if fix_time == False:\n",
    "            _sig=np.ones(self.d)*sigma_0\n",
    "            _sig[2:self.d:self.dof] = 0.3*sigma_0\n",
    "            \n",
    "        else:\n",
    "            _sig=np.ones(self.d)*sigma_0\n",
    "            \n",
    "        self.init_sigma=_sig\n",
    "\n",
    "        if fix_time == False:\n",
    "            __gaussianSampleData= __gaussianSampleData_flexibleT\n",
    "        else:\n",
    "            __gaussianSampleData= __gaussianSampleData_fixedT\n",
    "\n",
    "        \n",
    "        \n",
    "    def evalGaussian(self):\n",
    "        # initial parameters\n",
    "        t, mu, sigma = self.__initGaussianParams()\n",
    "        # random sample all dimension each time\n",
    "        while t < self.maxits:\n",
    "            x = self.__gaussianSampleData(mu, sigma)\n",
    "            \n",
    "            \n",
    "            s = self.__functionReward(x).reshape(-1, 1)\n",
    "            x = self.__sortSample(s,x)\n",
    "            mu, sigma = self.__updateGaussianParams(x)\n",
    "            self.state_buf[t,:] = mu \n",
    "            self.reward_buf[t] = self.func(mu)\n",
    "\n",
    "            print('iteration {ite}, v={rew}'.format(ite=t,rew=self.reward_buf[t])) \n",
    "            t += 1\n",
    "        return mu\n",
    "\n",
    "    def __initGaussianParams(self):\n",
    "        #initial parameters t, mu, sigma  /t is interation\n",
    "        t = 0\n",
    "        mu= self.init_mu\n",
    "        sigma = self.init_sigma\n",
    "        return t, mu, sigma\n",
    "\n",
    "    def __updateGaussianParams(self, x):\n",
    "        # update parameters mu, sigma\n",
    "        mu = x[0:self.Ne,:].mean(axis=0)\n",
    "        sigma = x[0:self.Ne,:].std(axis=0)\n",
    "        return mu, sigma\n",
    "    \n",
    "    def __gaussianSampleData_flexibleT(self, mu, sigma):\n",
    "        # sample N examples\n",
    "        sample_matrix = np.zeros((self.N, self.d))\n",
    "        for j in range(self.d):\n",
    "            sample_matrix[:,j] = np.random.normal(loc=mu[j], scale=sigma[j], size=(self.N,))\n",
    "        if self.v_min is not None and self.v_max is not None:\n",
    "            sample_matrix[:,2:self.d:self.dof] = np.clip(sample_matrix[:,2:self.d:self.dof],  self.v_min[-1], self.v_max[-1])\n",
    "        return sample_matrix\n",
    "\n",
    "#     两个via-point  d = 4 \n",
    "    def __gaussianSampleData_fixedT(self, mu, sigma):\n",
    "        # sample N examples\n",
    "        sample_matrix = np.zeros((self.N, self.d))\n",
    "        for j in range(self.d):\n",
    "            sample_matrix[:,j] = np.random.normal(loc=mu[j], scale=sigma[j], size=(self.N,))\n",
    "#         if self.v_min is not None and self.v_max is not None:\n",
    "#             sample_matrix[:,2:self.d:self.dof] = np.clip(sample_matrix[:,2:self.d:self.dof],  self.v_min[-1], self.v_max[-1])\n",
    "        return sample_matrix  \n",
    "    \n",
    "    \n",
    "    \n",
    "    \n",
    "    def __functionReward(self,  x):\n",
    "        # x [100,2] \n",
    "        _r = np.zeros([self.N])\n",
    "        for i in range(self.N):\n",
    "            _r[i]= self.func(x[i])\n",
    "        return _r\n",
    "\n",
    "    def __sortSample(self, s, x):\n",
    "    #   sort data by function return\n",
    "        y=np.concatenate((s,x),axis=1).tolist()\n",
    "        y = sorted(y, key=lambda x: x[0])\n",
    "        y=np.array(y)\n",
    "        x =y[:,1:]\n",
    "        return x"
   ]
  },
  {
   "cell_type": "code",
   "execution_count": 230,
   "id": "321a4594",
   "metadata": {},
   "outputs": [
    {
     "data": {
      "text/plain": [
       "8"
      ]
     },
     "execution_count": 230,
     "metadata": {},
     "output_type": "execute_result"
    }
   ],
   "source": [
    "fixt= True\n",
    "def func1(x,y):\n",
    "    return x+y\n",
    "\n",
    "def func2(x,y):\n",
    "    return x-y\n",
    "\n",
    "func3 = func1\n",
    "func3(3,5)"
   ]
  },
  {
   "cell_type": "code",
   "execution_count": 16,
   "id": "4ed9de6d",
   "metadata": {},
   "outputs": [
    {
     "data": {
      "text/plain": [
       "array([1, 2])"
      ]
     },
     "execution_count": 16,
     "metadata": {},
     "output_type": "execute_result"
    }
   ],
   "source": [
    "def get_reward(via_point):\n",
    "\n",
    "    old_promp=promp\n",
    "    via_point = via_point.reshape([-1,3])\n",
    "    t_cond = np.zeros(2+via_point.shape[0])\n",
    "    t_cond[0]=0\n",
    "    t_cond[-1] = 1\n",
    "    for i in range(via_point.shape[0]):\n",
    "        t_cond[i+1]=via_point[i,2]\n",
    "\n",
    "    q_cond =np.zeros([2+via_point.shape[0],2])\n",
    "    q_cond[0]= mean_margs[:,0]\n",
    "    q_cond[-1]= mean_margs[:,-1]\n",
    "    for i in range(via_point.shape[0]):\n",
    "        q_cond[i+1]=via_point[i,:2]\n",
    "\n",
    "    mu_w_cond_rec, Sigma_w_cond_rec=old_promp.get_basis_weight_parameters()\n",
    "\n",
    "    for i in range(t_cond.shape[0]):\n",
    "        mu_w_cond_rec, Sigma_w_cond_rec = old_promp.get_conditioned_weights(t_cond[i], q_cond[i], mean_w=mu_w_cond_rec, var_w=Sigma_w_cond_rec)\n",
    "\n",
    "    cond_traj = np.zeros([2,100])\n",
    "    for i in range(len(domain)):\n",
    "        mu_marg_q_con, Sigma_marg_q_con = promp.get_marginal(domain[i], mu_w_cond_rec, Sigma_w_cond_rec)\n",
    "        cond_traj[:,i] = mu_marg_q_con\n",
    "    col=  collision_detect(limit,cond_traj.T)\n",
    "    fre_dis= get_f_dist(ref_traj_T,cond_traj)\n",
    "    reward =  fre_dis   +5 *col \n",
    "    return reward"
   ]
  },
  {
   "cell_type": "code",
   "execution_count": 115,
   "id": "0eaac668",
   "metadata": {},
   "outputs": [],
   "source": [
    "via_point = np.array([[3.7,7.7,0.2],[2,3,0.8]])\n",
    "mean_margs=np.ones([2,10])\n",
    "t_cond = np.zeros(2+via_point.shape[0])\n",
    "t_cond[0]=0\n",
    "t_cond[-1] = 1\n",
    "\n",
    "for i in range(via_point.shape[0]):\n",
    "    t_cond[i+1]=via_point[i,2]\n",
    "\n",
    "q_cond =np.zeros([2+via_point.shape[0],2])\n",
    "q_cond[0]= mean_margs[:,0]\n",
    "q_cond[-1]= mean_margs[:,-1]\n",
    "\n",
    "for i in range(via_point.shape[0]):\n",
    "    q_cond[i+1]=via_point[i,:2]\n"
   ]
  },
  {
   "cell_type": "code",
   "execution_count": 226,
   "id": "09873a96",
   "metadata": {
    "scrolled": true
   },
   "outputs": [
    {
     "name": "stdout",
     "output_type": "stream",
     "text": [
      "[0 1 2 3 4] [5 6 7 8 9]\n",
      "[[0 5]\n",
      " [1 6]\n",
      " [2 7]\n",
      " [3 8]\n",
      " [4 9]]\n",
      "[4 9]\n"
     ]
    }
   ],
   "source": [
    "index=  np.arange(5)\n",
    "state =  np.arange(5,10)\n",
    "print(index,state)\n",
    "# print(state)\n",
    "\n",
    "a_lis = np.array([index,state]).T\n",
    "print(a_lis)\n",
    "\n",
    "a_lis.shape\n",
    "print(a_lis[4,:])"
   ]
  },
  {
   "cell_type": "code",
   "execution_count": 225,
   "id": "0f9b7091",
   "metadata": {},
   "outputs": [
    {
     "data": {
      "text/plain": [
       "4"
      ]
     },
     "execution_count": 225,
     "metadata": {},
     "output_type": "execute_result"
    }
   ],
   "source": [
    "index=  np.arange(5)\n",
    "a=np.where(index ==np.min(index))[0][0]\n",
    "a"
   ]
  },
  {
   "cell_type": "code",
   "execution_count": null,
   "id": "047c20ef",
   "metadata": {},
   "outputs": [],
   "source": [
    "fix_time = False\n",
    "mu_0= np.array([4.5681444,  7.424462, 0.417605 ,  3.24777775, 4.77656678 ,0.66713808])\n",
    "if fix_time = True:\n",
    "    mu = "
   ]
  },
  {
   "cell_type": "code",
   "execution_count": 138,
   "id": "3a1c6e75",
   "metadata": {},
   "outputs": [],
   "source": [
    "v_min=[None,None,0]\n",
    "v_max=[None,None,1]\n",
    "# mu =  np.array([[3.7,7.7,0.5]])\n",
    "mu_0 =  np.array([[3.7,7.7,0.5],[2,4,0.8]])\n",
    "sigma_0 =  np.ones([2,3])\n",
    "\n",
    "mu= mu_0.flatten()\n",
    "d = \n",
    "\n",
    "N=10\n",
    "d=3\n",
    "num_via = 2\n",
    "sample_matrix = np.zeros([N,num_via,d])\n",
    "for j in range(3):\n",
    "    sample_matrix[:,j] = np.random.normal(loc=mu[0,j], scale=sigma[j], size=(N,))\n",
    "if v_min is not None and v_max is not None:\n",
    "    sample_matrix[:,-1] = np.clip(sample_matrix[:,-1], v_min[-1], v_max[-1])\n"
   ]
  },
  {
   "cell_type": "code",
   "execution_count": 171,
   "id": "14872355",
   "metadata": {},
   "outputs": [],
   "source": [
    "mu_0 =  np.array([[3.7,7.7,0.5],[2,4,0.8],[2,4,0.8]])\n",
    "sigma_0 = None\n",
    "\n",
    "mu= mu_0.flatten()\n",
    "d = mu.shape[0]\n",
    "\n",
    "if sigma_0 == None:\n",
    "    sigma = np.ones(d)\n",
    "    \n",
    "N=10\n",
    "\n",
    "sample_matrix = np.zeros([N,d])\n",
    "for j in range(d):\n",
    "    sample_matrix[:,j] = np.random.normal(loc=mu[j], scale=sigma[j], size=(N,))\n",
    "if v_min is not None and v_max is not None:\n",
    "    sample_matrix[:,2:d:3] = np.clip(sample_matrix[:,2:d:3], v_min[-1], v_max[-1])"
   ]
  },
  {
   "cell_type": "code",
   "execution_count": 200,
   "id": "36878c3a",
   "metadata": {},
   "outputs": [
    {
     "name": "stdout",
     "output_type": "stream",
     "text": [
      "[ 0.45295186  0.32092804  0.6351243   0.10168159  0.12024674  0.64155177\n",
      " -0.34864929  0.19471101 -0.44859806  0.50494938  0.7663133  -0.09183008\n",
      "  0.14581588  0.5041916  -0.15139083  0.39366461  0.5496285   0.76778876\n",
      "  0.5189253  -0.1036082   0.30426393  0.56539688  0.39543098 -0.34704707\n",
      "  0.17195624  0.08053924  0.34184312  0.26758804  0.12488048  0.23720716\n",
      "  0.21889507  0.43619163  0.22252557  0.43705918  0.37442001  0.20296966\n",
      "  0.11517227 -0.16818528  0.65188068  0.77452292 -0.15568876  0.23855681\n",
      "  0.06552279  0.30027843  0.19847098  0.51023238  0.46554663  0.32986246\n",
      "  0.32382895  0.04306476]\n"
     ]
    }
   ],
   "source": [
    "a= np.random.normal(loc=0.3, scale=0.3, size=(50))\n",
    "print(a)"
   ]
  },
  {
   "cell_type": "code",
   "execution_count": null,
   "id": "cb42ff37",
   "metadata": {},
   "outputs": [],
   "source": []
  }
 ],
 "metadata": {
  "kernelspec": {
   "display_name": "base_env",
   "language": "python",
   "name": "base_env"
  },
  "language_info": {
   "codemirror_mode": {
    "name": "ipython",
    "version": 3
   },
   "file_extension": ".py",
   "mimetype": "text/x-python",
   "name": "python",
   "nbconvert_exporter": "python",
   "pygments_lexer": "ipython3",
   "version": "3.8.5"
  }
 },
 "nbformat": 4,
 "nbformat_minor": 5
}
