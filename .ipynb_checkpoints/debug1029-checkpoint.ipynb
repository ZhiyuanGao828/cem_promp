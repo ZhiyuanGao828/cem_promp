{
 "cells": [
  {
   "cell_type": "code",
   "execution_count": 16,
   "id": "0a66062b",
   "metadata": {},
   "outputs": [],
   "source": [
    "import intprim\n",
    "\n",
    "from intprim.probabilistic_movement_primitives import *\n",
    "import numpy as np\n",
    "import matplotlib.pyplot as plt\n",
    "from intprim.util.kinematics import BaseKinematicsClass\n",
    "import random\n",
    "import pandas as pd\n",
    "from frechetdist import frdist\n",
    "from cem import CEM\n",
    "from utils import *\n",
    "import time\n",
    "from pytorch_fid.fid_score import calculate_frechet_distance\n",
    "\n",
    "\n",
    "# import data\n",
    "dataset= np.load('/home/zhiyuan/notebook_script/0930/l_shape.npy')\n",
    "num_joints =2\n",
    "basis_model = intprim.basis.GaussianModel(8, 0.1, [\"x\",\"y\"])\n",
    "promp = ProMP(basis_model)\n",
    "Q = dataset.transpose(0,2,1)\n",
    "# Add Demonstrations to the ProMP, which in turn calculates the list of weights for each demonstration.\n",
    "for i in range(len(Q)):\n",
    "\tpromp.add_demonstration(Q[i])\n",
    "n_samples = 30# Number of trajectoies to sample\n",
    "domain = np.linspace(0,1,100)\n",
    "\n",
    "mean_margs =  np.zeros([2,100])\n",
    "sigma_s = np.zeros([2,2,100])\n",
    "# stdqs =  np.zeros([2,100])\n",
    "for i in range(len(domain)):\n",
    "    mu_marg_q, Sigma_marg_q = promp.get_marginal(domain[i])\n",
    "    sigma_s[:,:,i] = Sigma_marg_q\n",
    "    mean_margs[:,i] = mu_marg_q\n",
    "\n"
   ]
  },
  {
   "cell_type": "code",
   "execution_count": 29,
   "id": "873942f5",
   "metadata": {},
   "outputs": [
    {
     "name": "stdout",
     "output_type": "stream",
     "text": [
      "61.755134952116194\n"
     ]
    }
   ],
   "source": [
    "\n",
    "old_promp=promp \n",
    "t_cond = np.zeros(2)   \n",
    "q_cond =np.zeros([2,2])    \n",
    "t_cond[0]=0\n",
    "t_cond[1]=1\n",
    "q_cond[0]= mean_margs[:,0]\n",
    "q_cond[1]= mean_margs[:,-1]\n",
    "#     q_cond[0]=np.array([-5,-5])\n",
    "#     q_cond[1]=np.array([10,10])\n",
    "\n",
    "\n",
    "mu_w_cond_rec, Sigma_w_cond_rec=old_promp.get_basis_weight_parameters()\n",
    "\n",
    "for i in range(t_cond.shape[0]):\n",
    "    mu_w_cond_rec, Sigma_w_cond_rec = old_promp.get_conditioned_weights(t_cond[i], q_cond[i], mean_w=mu_w_cond_rec, var_w=Sigma_w_cond_rec)\n",
    "\n",
    "cond_traj = np.zeros([2,100])\n",
    "sigma_con_array =np.zeros([2,2,100]) \n",
    "for i in range(len(domain)):\n",
    "    mu_marg_q_con, Sigma_marg_q_con = promp.get_marginal(domain[i], mu_w_cond_rec, Sigma_w_cond_rec)\n",
    "    sigma_con_array[:,:,i] = Sigma_marg_q_con\n",
    "    cond_traj[:,i] = mu_marg_q_con\n",
    "mu_1= mean_margs.T.reshape(-1)\n",
    "mu_2= cond_traj.T.reshape(-1)\n",
    "sigma_1 = np.zeros([200,200])\n",
    "sigma_2 = np.zeros([200,200])\n",
    "\n",
    "for i in range(100):\n",
    "    sigma_1[i*2:(i+1)*2,i*2:(i+1)*2] = sigma_s[:,:,i]\n",
    "    sigma_2[i*2:(i+1)*2,i*2:(i+1)*2] = sigma_con_array[:,:,i]\n",
    "fid_cost= calculate_frechet_distance(mu_1,sigma_1,mu_2,sigma_2)\n",
    "\n",
    "# fid_cost= calculate_frechet_distance(mu_1,sigma_1,mu_1,sigma_1) *0.01\n",
    "\n",
    "print(fid_cost)\n"
   ]
  },
  {
   "cell_type": "code",
   "execution_count": 30,
   "id": "c224af5b",
   "metadata": {},
   "outputs": [
    {
     "data": {
      "text/plain": [
       "array([[1.e-14, 1.e-14, 1.e-14, ..., 1.e-14, 1.e-14, 1.e-14],\n",
       "       [1.e-14, 1.e-14, 1.e-14, ..., 1.e-14, 1.e-14, 1.e-14],\n",
       "       [1.e-14, 1.e-14, 1.e-14, ..., 1.e-14, 1.e-14, 1.e-14],\n",
       "       ...,\n",
       "       [1.e-14, 1.e-14, 1.e-14, ..., 1.e-14, 1.e-14, 1.e-14],\n",
       "       [1.e-14, 1.e-14, 1.e-14, ..., 1.e-14, 1.e-14, 1.e-14],\n",
       "       [1.e-14, 1.e-14, 1.e-14, ..., 1.e-14, 1.e-14, 1.e-14]])"
      ]
     },
     "execution_count": 30,
     "metadata": {},
     "output_type": "execute_result"
    }
   ],
   "source": [
    "np.ones([200,200])*0.00000000000001"
   ]
  },
  {
   "cell_type": "code",
   "execution_count": null,
   "id": "b03b53e5",
   "metadata": {},
   "outputs": [],
   "source": []
  }
 ],
 "metadata": {
  "kernelspec": {
   "display_name": "base_env",
   "language": "python",
   "name": "base_env"
  },
  "language_info": {
   "codemirror_mode": {
    "name": "ipython",
    "version": 3
   },
   "file_extension": ".py",
   "mimetype": "text/x-python",
   "name": "python",
   "nbconvert_exporter": "python",
   "pygments_lexer": "ipython3",
   "version": "3.8.5"
  }
 },
 "nbformat": 4,
 "nbformat_minor": 5
}
