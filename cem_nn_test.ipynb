{
 "cells": [
  {
   "cell_type": "code",
   "execution_count": 1,
   "id": "01f7c109",
   "metadata": {},
   "outputs": [],
   "source": [
    "import torch\n",
    "import torch.nn as nn\n",
    "import numpy as np\n",
    "import torch.optim as optim\n",
    "import os\n",
    "from torch.distributions.multivariate_normal import MultivariateNormal\n",
    "from utils import *\n",
    "from cem import CEM"
   ]
  },
  {
   "cell_type": "code",
   "execution_count": 2,
   "id": "3fb69879",
   "metadata": {},
   "outputs": [],
   "source": [
    "class Actor(nn.Module):\n",
    "    def __init__(self):\n",
    "        super(Actor, self).__init__()\n",
    "        self.stds = torch.Tensor([ 0.1,  0.1])\n",
    "        # nn.Parameter(torch.ones(n_actions))*0.1\n",
    "        self.actor = nn.Sequential(\n",
    "            nn.Linear(2, 8),\n",
    "            nn.Tanh(),\n",
    "            nn.Linear(8, 8),\n",
    "            nn.Tanh(),\n",
    "            nn.Linear(8, 2),\n",
    "            nn.Sigmoid()\n",
    "            )\n",
    "\n",
    "    def forward(self, state):\n",
    "        mu= self.actor(state.float())\n",
    "        k=torch.Tensor([10,10])    \n",
    "        dist = MultivariateNormal(loc=mu*k,scale_tril=torch.diag(self.stds) )\n",
    "        return dist"
   ]
  },
  {
   "cell_type": "code",
   "execution_count": 3,
   "id": "97d9e4c2",
   "metadata": {},
   "outputs": [],
   "source": [
    "# 112个参数\n",
    "def get_para_array(model):\n",
    "    para=np.zeros(114)\n",
    "    para[:16] = model.state_dict()['actor.0.weight'].reshape(-1).numpy()\n",
    "    para[16:24] = model.state_dict()['actor.0.bias'].reshape(-1).numpy()\n",
    "    para[24:88] = model.state_dict()['actor.2.weight'].reshape(-1).numpy()\n",
    "    para[88:96] = model.state_dict()['actor.2.bias'].reshape(-1).numpy()\n",
    "    para[96:112] = model.state_dict()['actor.4.weight'].reshape(-1).numpy()\n",
    "    para[112:114] = model.state_dict()['actor.4.bias'].reshape(-1).numpy()\n",
    "    \n",
    "    return para\n",
    "\n",
    "def update_para_tensor(model,para_array):\n",
    "    tensor_list=[]\n",
    "    tensor_list.append(torch.from_numpy(para_array[:16].reshape([8,2])))\n",
    "    tensor_list.append(torch.from_numpy(para_array[16:24]))\n",
    "    tensor_list.append(torch.from_numpy(para_array[24:88].reshape([8,8])))\n",
    "    tensor_list.append(torch.from_numpy(para_array[88:96]))\n",
    "    tensor_list.append(torch.from_numpy(para_array[96:112].reshape([2,8])))\n",
    "    tensor_list.append(torch.from_numpy(para_array[112:114]))\n",
    "\n",
    "    model.state_dict()['actor.0.weight'].copy_(tensor_list[0])\n",
    "    model.state_dict()['actor.0.bias'].copy_(tensor_list[1])\n",
    "    model.state_dict()['actor.2.weight'].copy_(tensor_list[2])\n",
    "    model.state_dict()['actor.2.bias'].copy_(tensor_list[3])\n",
    "    model.state_dict()['actor.4.weight'].copy_(tensor_list[4])\n",
    "    model.state_dict()['actor.4.bias'].copy_(tensor_list[5])\n",
    "    "
   ]
  },
  {
   "cell_type": "code",
   "execution_count": 10,
   "id": "07e95fab",
   "metadata": {},
   "outputs": [],
   "source": [
    "actor0= Actor()\n",
    "actor1=Actor()"
   ]
  },
  {
   "cell_type": "code",
   "execution_count": 11,
   "id": "96f6b7d9",
   "metadata": {},
   "outputs": [
    {
     "name": "stdout",
     "output_type": "stream",
     "text": [
      "[ 0.69590276 -0.29910487  0.6939314   0.14993623 -0.48842365  0.06651034\n",
      " -0.25525758  0.52788478  0.67436624  0.00531489 -0.62435496  0.5336386\n",
      "  0.50414371  0.38237357  0.20454632 -0.28448683 -0.5315513  -0.46473855\n",
      " -0.52503413  0.49420872 -0.02796359 -0.51185477  0.65425658 -0.36188632\n",
      "  0.0021881  -0.01603738  0.2688995  -0.07050021 -0.33359504  0.18825345\n",
      "  0.23515703  0.25892466 -0.07574366 -0.3348363  -0.25958183  0.00742737\n",
      "  0.16798094 -0.09658397  0.32031482  0.01029218  0.09861287 -0.15829438\n",
      " -0.2317508  -0.25902158  0.21892649  0.15190984  0.1562417   0.06453201\n",
      "  0.24486859  0.12200531 -0.01069527  0.05246237  0.27347794 -0.16135693\n",
      "  0.30199456 -0.28770864 -0.10271777 -0.17433012  0.32842553  0.07329766\n",
      " -0.14459299 -0.2833955   0.33494499 -0.2034532  -0.05309664  0.17539242\n",
      "  0.18350038  0.01621613 -0.34562245 -0.35040268  0.28225622  0.22798675\n",
      " -0.34094059  0.08362162 -0.24378617 -0.13010632  0.09725988 -0.32171291\n",
      " -0.05726914 -0.15881257 -0.33190069 -0.09666451  0.27515304 -0.18436502\n",
      "  0.02187392 -0.22846845  0.20725346  0.02398607  0.04388195  0.2659564\n",
      " -0.0187953  -0.02275753 -0.33894062 -0.10377035 -0.08011273 -0.24208285\n",
      " -0.11196391  0.27271652  0.0351726   0.17644748 -0.15214047 -0.13820976\n",
      " -0.11248484  0.08418462  0.2803086  -0.23736115 -0.31355244 -0.20965485\n",
      " -0.04269876 -0.25596187  0.10573595  0.13971128 -0.28722939  0.07647773]\n",
      "[ 0.61906075  0.38625968 -0.0080514   0.20673113  0.34783736 -0.6647951\n",
      "  0.0131166   0.45925987  0.64049399  0.06711422  0.06482995 -0.00816191\n",
      "  0.27892429 -0.39003098 -0.56040144 -0.53987247  0.08327678 -0.10057115\n",
      "  0.54321885 -0.67238533  0.22482629 -0.08524031  0.51466328  0.12460336\n",
      " -0.29121533 -0.21390942 -0.28650269 -0.22865015 -0.03068624  0.28750345\n",
      "  0.27430078 -0.29528955  0.19458488 -0.00604908 -0.11623064 -0.02216081\n",
      "  0.18839726 -0.17916928  0.22222477  0.25952879 -0.31535321  0.09244785\n",
      "  0.25829515  0.12946711  0.0615795  -0.05155925 -0.23656347  0.16853206\n",
      "  0.33440059  0.15643536  0.09497375 -0.30040026 -0.02900592 -0.26580453\n",
      " -0.00767132  0.17578329 -0.24392012 -0.31241819 -0.27539676  0.31718081\n",
      "  0.27182686  0.28590921  0.00728858  0.20167086 -0.27343804  0.33384016\n",
      "  0.25436288 -0.29598057  0.1759354  -0.11283339  0.06289439 -0.15942307\n",
      "  0.14166191 -0.15257463  0.1165035  -0.02054979 -0.22783794  0.25150785\n",
      " -0.32885304  0.17532431  0.07916316  0.16856164  0.21615508  0.24252079\n",
      "  0.15892662 -0.28667596 -0.17456803 -0.06835422 -0.04274495 -0.33929101\n",
      "  0.24028711 -0.10376719  0.30087259 -0.08248673 -0.15539239 -0.30015144\n",
      "  0.19283465  0.310671   -0.24627605 -0.33171183  0.02173193 -0.09769411\n",
      "  0.09162623  0.17458999  0.04082546 -0.14780243 -0.01149167 -0.19926225\n",
      "  0.10494725 -0.21788099 -0.14843172 -0.15124822 -0.30778983  0.24622539]\n"
     ]
    }
   ],
   "source": [
    "para0=get_para_array(actor0)\n",
    "para1=get_para_array(actor1)\n",
    "print(para0)\n",
    "print(para1)"
   ]
  },
  {
   "cell_type": "code",
   "execution_count": null,
   "id": "292d16f0",
   "metadata": {},
   "outputs": [],
   "source": [
    "policy= Actor()\n",
    "def nn_score(para):\n",
    "    limits= np.zeros([20,2])\n",
    "    via_point= []\n",
    "    score= np.zeros(20)\n",
    "    update_para_tensor(policy,para)\n",
    "    \n",
    "    for limit in limits:\n",
    "        via_point.append(policy.actor(limit))\n",
    "        \n",
    "    for i in range(20):\n",
    "        score[i] = get_reward(limits[i],via_point[i])\n",
    "        \n",
    "    return score.mean()\n",
    "        \n",
    "        \n",
    "    \n",
    "    \n",
    "    \n",
    "    "
   ]
  },
  {
   "cell_type": "code",
   "execution_count": null,
   "id": "16f93f68",
   "metadata": {},
   "outputs": [],
   "source": [
    "# cem的get reward是nn的好坏\n"
   ]
  }
 ],
 "metadata": {
  "kernelspec": {
   "display_name": "base_env",
   "language": "python",
   "name": "base_env"
  },
  "language_info": {
   "codemirror_mode": {
    "name": "ipython",
    "version": 3
   },
   "file_extension": ".py",
   "mimetype": "text/x-python",
   "name": "python",
   "nbconvert_exporter": "python",
   "pygments_lexer": "ipython3",
   "version": "3.8.5"
  }
 },
 "nbformat": 4,
 "nbformat_minor": 5
}
