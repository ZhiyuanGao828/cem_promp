{
 "cells": [
  {
   "cell_type": "code",
   "execution_count": 2,
   "id": "4278aaeb",
   "metadata": {},
   "outputs": [],
   "source": [
    "import intprim\n",
    "from intprim.probabilistic_movement_primitives import *\n",
    "import numpy as np\n",
    "import matplotlib.pyplot as plt\n",
    "from matplotlib.patches import Rectangle\n",
    "import random\n",
    "import pandas as pd\n",
    "from frechetdist import frdist\n",
    "import math\n",
    "from cem import CEM\n",
    "from utils import *\n",
    "\n",
    "from two_dof.toy_robot import ToyRobot\n",
    "from two_dof.toy_obstacle import ToyObstacle"
   ]
  },
  {
   "cell_type": "code",
   "execution_count": 12,
   "id": "405d7738",
   "metadata": {},
   "outputs": [
    {
     "name": "stdout",
     "output_type": "stream",
     "text": [
      "Using matplotlib backend: QtAgg\n"
     ]
    }
   ],
   "source": [
    "%matplotlib\n",
    "dataset= np.load('/home/zhiyuan/notebook_script/0930/l_shape.npy')\n",
    "# dataset=dataset[:,70:,]\n",
    "fig, ax = plt.subplots()\n",
    "ax.axis([0, 10, 0, 10])\n",
    "plt.gca().set_aspect(1)\n",
    "for i in range(1):\n",
    "    ax.plot(dataset[i,:,0], dataset[i,:,1],'g-',alpha=0.3)\n",
    "#add rectangle to plor\n",
    "ax.add_patch(Rectangle((5, 3), 1, 1,\n",
    "\n",
    "             angle=0,\n",
    "             edgecolor = 'none',\n",
    "             facecolor = 'blue',\n",
    "             fill=True,\n",
    "             lw=1))\n",
    "\n",
    "\n",
    "plt.show() "
   ]
  },
  {
   "cell_type": "code",
   "execution_count": 11,
   "id": "1118fabf",
   "metadata": {},
   "outputs": [],
   "source": [
    "toy_obstacle = ToyObstacle(5.5, 3.5, 1, 1,safe_distance=0.2)\n",
    "\n",
    "ax = toy_obstacle.visualize(ax=None)\n",
    "ax.axis([0, 10, 0, 10])\n",
    "plt.gca().set_aspect(1)\n",
    "for i in range(30):\n",
    "    ax.plot(dataset[i,:,0], dataset[i,:,1],'g-',alpha=0.3)\n",
    "plt.show()"
   ]
  },
  {
   "cell_type": "code",
   "execution_count": null,
   "id": "bdc7a178",
   "metadata": {},
   "outputs": [],
   "source": [
    "toy_robo = ToyRobot(6., 8., 0., 0.)"
   ]
  },
  {
   "cell_type": "code",
   "execution_count": 50,
   "id": "8754ba4a",
   "metadata": {},
   "outputs": [],
   "source": [
    "# data2dof= np.zeros([30, 100, 2])\n",
    "# for i in range(30):\n",
    "    \n",
    "#     data2dof[i,:,0] = toy_robo.ik(dataset[i,:,0], dataset[i,:,1])[0]\n",
    "#     data2dof[i,:,1] = toy_robo.ik(dataset[i,:,0], dataset[i,:,1])[1]"
   ]
  },
  {
   "cell_type": "code",
   "execution_count": 52,
   "id": "a7bf756e",
   "metadata": {},
   "outputs": [],
   "source": [
    "dataset= np.load('/home/zhiyuan/notebook_script/cem_promp/data2dof.npy')\n",
    "num_joints =2\n",
    "# Create a ProMP with Gaussian basis functions.\n",
    "\n",
    "basis_model = intprim.basis.GaussianModel(8, 0.1, [\"x\",\"y\"])\n",
    "promp = ProMP(basis_model)\n",
    "Q = dataset.transpose(0,2,1)\n",
    "\n",
    "# Add Demonstrations to the ProMP, which in turn calculates the list of weights for each demonstration.\n",
    "for i in range(len(Q)):\n",
    "\tpromp.add_demonstration(Q[i])\n",
    "\n",
    "n_samples = 30# Number of trajectoies to sample\n",
    "domain = np.linspace(0,1,100)\n",
    "\n",
    "# sample some trajs\n",
    "samples_learn= []\n",
    "for i in range(n_samples):\n",
    "    samples, _ = promp.generate_probable_trajectory(domain)\n",
    "    samples_learn.append(samples)\n",
    "samples_learn=np.array(samples_learn)  \n",
    "\n",
    "\n",
    "mean_margs = np.zeros(samples.shape)\n",
    "\n",
    "\n",
    "upper_bound =  np.zeros([2,100])\n",
    "lower_bound =  np.zeros([2,100])\n",
    "sigma_s = np.zeros([2,2,100])\n",
    "for i in range(len(domain)):\n",
    "    mu_marg_q, Sigma_marg_q = promp.get_marginal(domain[i])\n",
    "    sigma_s[:,:,i] = Sigma_marg_q\n",
    "    std_q = np.diagonal(Sigma_marg_q) ** 0.5\n",
    "\n",
    "    mean_margs[:,i] = mu_marg_q\n",
    "    upper_bound[:,i] = mu_marg_q + std_q\n",
    "    lower_bound[:,i] = mu_marg_q - std_q\n"
   ]
  },
  {
   "cell_type": "code",
   "execution_count": 70,
   "id": "bf29c0f3",
   "metadata": {},
   "outputs": [
    {
     "data": {
      "text/plain": [
       "array([-0.37431626,  2.00549582])"
      ]
     },
     "execution_count": 70,
     "metadata": {},
     "output_type": "execute_result"
    }
   ],
   "source": [
    "mean_margs[:,30]"
   ]
  },
  {
   "cell_type": "code",
   "execution_count": 71,
   "id": "065a9186",
   "metadata": {},
   "outputs": [
    {
     "data": {
      "text/plain": [
       "array([-0.60741837,  2.32964738])"
      ]
     },
     "execution_count": 71,
     "metadata": {},
     "output_type": "execute_result"
    }
   ],
   "source": [
    "mean_margs[:,70] "
   ]
  },
  {
   "cell_type": "code",
   "execution_count": 58,
   "id": "a73aec37",
   "metadata": {},
   "outputs": [],
   "source": [
    "th1=mean_margs[0,:]\n",
    "th2=mean_margs[1,:]\n",
    "x, y = toy_robo.fk(th1, th2)"
   ]
  },
  {
   "cell_type": "code",
   "execution_count": 67,
   "id": "ec1571c8",
   "metadata": {},
   "outputs": [],
   "source": [
    "x, y = toy_robo.fk(mean_margs[0,:], mean_margs[1,:])\n",
    "cond_traj = np.array([x,y])"
   ]
  },
  {
   "cell_type": "code",
   "execution_count": 80,
   "id": "1eb1a01d",
   "metadata": {},
   "outputs": [
    {
     "data": {
      "text/plain": [
       "(2, 100)"
      ]
     },
     "execution_count": 80,
     "metadata": {},
     "output_type": "execute_result"
    }
   ],
   "source": [
    "mean_margs.shape"
   ]
  },
  {
   "cell_type": "code",
   "execution_count": 73,
   "id": "1337cf12",
   "metadata": {},
   "outputs": [
    {
     "data": {
      "text/plain": [
       "2.7261004450534756"
      ]
     },
     "execution_count": 73,
     "metadata": {},
     "output_type": "execute_result"
    }
   ],
   "source": [
    "mean_margs.max()\n"
   ]
  },
  {
   "cell_type": "code",
   "execution_count": 74,
   "id": "37826458",
   "metadata": {},
   "outputs": [
    {
     "data": {
      "text/plain": [
       "-1.1429127753883108"
      ]
     },
     "execution_count": 74,
     "metadata": {},
     "output_type": "execute_result"
    }
   ],
   "source": [
    "mean_margs.min()"
   ]
  },
  {
   "cell_type": "code",
   "execution_count": null,
   "id": "5caa74be",
   "metadata": {},
   "outputs": [],
   "source": [
    "0.03087525  1.57015466  0.25613693 -0.14906376  2.55112826  0.71432574"
   ]
  },
  {
   "cell_type": "code",
   "execution_count": 76,
   "id": "3ec5c8cd",
   "metadata": {},
   "outputs": [
    {
     "name": "stdout",
     "output_type": "stream",
     "text": [
      "[ 8.25927293 -3.55071098]\n",
      "[5.31541572 3.10842369]\n"
     ]
    }
   ],
   "source": [
    "th1=np.array([-0.37909077,0.75035802 ])\n",
    "th2=np.array([1.60758344,2.51441848])\n",
    "x, y = toy_robo.fk(th1, th2)\n",
    "\n",
    "print(x)\n",
    "print(y)"
   ]
  },
  {
   "cell_type": "code",
   "execution_count": 85,
   "id": "13807d55",
   "metadata": {},
   "outputs": [
    {
     "name": "stdout",
     "output_type": "stream",
     "text": [
      "[3.19770779 3.59749919 0.11564862 3.25728918 4.18088307 0.65774791]\n"
     ]
    }
   ],
   "source": [
    "via_point= np.array([-0.81039905 , 2.49865885  ,0.11564862, -0.66045037,  2.41744664 , 0.65774791])\n",
    "def joint2task(via_point):\n",
    "    q = np.zeros(6)\n",
    "    x0, y0 = toy_robo.fk(via_point[0], via_point[1])\n",
    "    x1, y1 = toy_robo.fk(via_point[3], via_point[4])\n",
    "    q[0]= x0\n",
    "    q[1]=y0\n",
    "    q[2]= via_point[2]\n",
    "    q[3]=x1\n",
    "    q[4]=y1\n",
    "    q[5]=via_point[5]\n",
    "    return q\n",
    "\n",
    "q =joint2task(via_point)\n",
    "print(q)\n"
   ]
  },
  {
   "cell_type": "code",
   "execution_count": 65,
   "id": "7819402e",
   "metadata": {},
   "outputs": [
    {
     "name": "stdout",
     "output_type": "stream",
     "text": [
      "(30, 100, 2)\n"
     ]
    }
   ],
   "source": [
    "fig, ax = plt.subplots()\n",
    "ax.axis([0, 10, 0, 10])\n",
    "plt.gca().set_aspect(1)\n",
    "ax.plot(domain, y, 'g', alpha=0.3)\n",
    "ax.plot(domain, x, 'r', alpha=0.3)\n",
    "#add rectangle to plor\n",
    "ax.add_patch(Rectangle((5, 3), 1, 1,\n",
    "# ax.add_patch(Rectangle((4, 5), 3, 3,\n",
    "             angle=0,\n",
    "             edgecolor = 'none',\n",
    "             facecolor = 'blue',\n",
    "             fill=True,\n",
    "             lw=1))\n",
    "\n",
    "\n",
    "plt.show()\n",
    "print(dataset.shape)"
   ]
  },
  {
   "cell_type": "code",
   "execution_count": null,
   "id": "58b032a0",
   "metadata": {},
   "outputs": [],
   "source": [
    "# toy_obstacle = ToyObstacle(5.5, 3.5, 1, 1,safe_distance=0.2)\n",
    "def get_reward(via_point):\n",
    "#     task space转为joint space\n",
    "#     v_joint = toy_robo.ik(dataset[i,:,0], dataset[i,:,1])[0]\n",
    "    \n",
    "    old_promp=promp\n",
    "    via_point = via_point.reshape([-1,3])\n",
    "    t_cond = np.zeros(2+via_point.shape[0])\n",
    "    t_cond[0]=0\n",
    "    t_cond[-1] = 1\n",
    "    for i in range(via_point.shape[0]):\n",
    "        t_cond[i+1]=via_point[i,2]\n",
    "\n",
    "    q_cond =np.zeros([2+via_point.shape[0],2])\n",
    "    q_cond[0]= mean_margs[:,0]\n",
    "    q_cond[-1]= mean_margs[:,-1]\n",
    "    for i in range(via_point.shape[0]):\n",
    "        q_cond[i+1]=via_point[i,:2]\n",
    "\n",
    "    mu_w_cond_rec, Sigma_w_cond_rec=old_promp.get_basis_weight_parameters()\n",
    "\n",
    "    for i in range(t_cond.shape[0]):\n",
    "        mu_w_cond_rec, Sigma_w_cond_rec = old_promp.get_conditioned_weights(t_cond[i], q_cond[i], mean_w=mu_w_cond_rec, var_w=Sigma_w_cond_rec)\n",
    "\n",
    "    cond_mean = np.zeros([2,100])\n",
    "    for i in range(len(domain)):\n",
    "        mu_marg_q_con, Sigma_marg_q_con = promp.get_marginal(domain[i], mu_w_cond_rec, Sigma_w_cond_rec)\n",
    "        cond_mean[:,i] = mu_marg_q_con\n",
    "    \n",
    "    \n",
    "    x, y = toy_robo.fk(cond_mean[0,:], cond_mean[1,:])\n",
    "    cond_traj = np.array([x,y])\n",
    "    distance = toy_obstacle.eval_distance(x,y) \n",
    "        \n",
    "        \n",
    "    \n",
    "    col=  collision_detect(limit,cond_traj.T)\n",
    "    obs_dis= traj_rect_dist(cond_traj.T,  limit)\n",
    "    if obs_dis > 0.3:\n",
    "        dis_reward = 3\n",
    "    else:\n",
    "        dis_reward = -0.5*obs_dis #0.2 is good for dtw\n",
    "\n",
    "\n",
    "    # if obs_dis > 0.3:\n",
    "    #     dis_reward = 3\n",
    "    # # elif obs_dis < 0.1:\n",
    "    # #     dis_reward = 3\n",
    "    # else:\n",
    "    #     dis_reward =0.5*obs_dis #0.2 is good for dtw\n",
    "\n",
    "    # cond_traj3 = cond_traj[:,1:99:2]    \n",
    "    # cond_traj3 = cond_traj[:,1:99:3]\n",
    "    fre_dis= get_f_dist(ref_traj_T,cond_traj)\n",
    "\n",
    "    # fre_dis= get_f_dist(ref3_t,cond_traj3)\n",
    "\n",
    "    # dtw_cost= get_dtw_cost(ref3_t,cond_traj3)\n",
    "    reward =  fre_dis  +10 *col + dis_reward\n",
    "    # reward =  dtw_cost  +10 *col + dis_reward\n",
    "    # reward =  dtw_cost  +10 *col\n",
    "    # reward =  fre_dis   + dis_reward\n",
    "    # reward =  fre_dis   +10*col \n",
    "    return reward\n",
    "    # return reward, fre_dis,col,dis_reward"
   ]
  }
 ],
 "metadata": {
  "kernelspec": {
   "display_name": "base_env",
   "language": "python",
   "name": "base_env"
  },
  "language_info": {
   "codemirror_mode": {
    "name": "ipython",
    "version": 3
   },
   "file_extension": ".py",
   "mimetype": "text/x-python",
   "name": "python",
   "nbconvert_exporter": "python",
   "pygments_lexer": "ipython3",
   "version": "3.8.5"
  }
 },
 "nbformat": 4,
 "nbformat_minor": 5
}
