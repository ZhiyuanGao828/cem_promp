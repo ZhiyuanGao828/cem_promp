{
 "cells": [
  {
   "cell_type": "code",
   "execution_count": 1,
   "id": "72d8b8ff",
   "metadata": {},
   "outputs": [],
   "source": [
    "import torch\n",
    "import torch.nn as nn\n",
    "import torch.nn.functional as F\n",
    "import matplotlib.pyplot as plt\n",
    "from torch.autograd import Variable\n",
    "import numpy as np"
   ]
  },
  {
   "cell_type": "code",
   "execution_count": null,
   "id": "cd7cec39",
   "metadata": {},
   "outputs": [],
   "source": [
    "actor输出是linear层 在get_reward里normlize  "
   ]
  },
  {
   "cell_type": "code",
   "execution_count": 2,
   "id": "8bc492f1",
   "metadata": {},
   "outputs": [],
   "source": [
    "def get_reward(state, action):\n",
    "    via_point= np.zeros(3)\n",
    "    via_point[0]=action[0]*8\n",
    "    via_point[1]=action[1]*8\n",
    "    via_point[2]=action[2]\n",
    "\n",
    "    old_promp=promp\n",
    "    via_point = via_point.reshape([-1,3])\n",
    "    t_cond = np.zeros(2+via_point.shape[0])\n",
    "    t_cond[0]=0\n",
    "    t_cond[-1] = 1 \n",
    "    for i in range(via_point.shape[0]):\n",
    "        t_cond[i+1]=via_point[i,2]\n",
    "\n",
    "    q_cond =np.zeros([2+via_point.shape[0],2])\n",
    "    q_cond[0]= np.array([state[0],state[1]])\n",
    "    q_cond[-1]=np.array([state[2],state[3]])\n",
    "    for i in range(via_point.shape[0]):\n",
    "        q_cond[i+1]=via_point[i,:2]\n",
    "        \n",
    "    mu_w_cond_rec, Sigma_w_cond_rec=old_promp.get_basis_weight_parameters()\n",
    "\n",
    "    for i in range(t_cond.shape[0]):\n",
    "        mu_w_cond_rec, Sigma_w_cond_rec = old_promp.get_conditioned_weights(t_cond[i], q_cond[i], mean_w=mu_w_cond_rec, var_w=Sigma_w_cond_rec)\n",
    "\n",
    "    cond_traj = np.zeros([2,100])\n",
    "    sigma_con_array =np.zeros([2,2,100]) \n",
    "    for i in range(len(domain)):\n",
    "        mu_marg_q_con, Sigma_marg_q_con = promp.get_marginal(domain[i], mu_w_cond_rec, Sigma_w_cond_rec)\n",
    "        sigma_con_array[:,:,i] = Sigma_marg_q_con\n",
    "        cond_traj[:,i] = mu_marg_q_con\n",
    "\n",
    "    limit = np.array([[state[4],state[4]+1],[state[5],state[5]+1]])   \n",
    "    obs_dis= traj_rect_dist(cond_traj.T,  limit)  #new distance\n",
    "    orig_obs= traj_rect_dist(mean_margs.T,  limit) #old distance\n",
    "    obs_reward=obs_dis- orig_obs #new distance -old distance\n",
    "    # mu_1= mean_margs.T.reshape(-1)\n",
    "    mu_2= cond_traj.T.reshape(-1)\n",
    "    # sigma_1 = np.zeros([200,200])\n",
    "    sigma_2 = np.zeros([200,200])\n",
    "    for i in range(100):\n",
    "        # sigma_1[i*2:(i+1)*2,i*2:(i+1)*2] = sigma_s[:,:,i]\n",
    "        sigma_2[i*2:(i+1)*2,i*2:(i+1)*2] = sigma_con_array[:,:,i]\n",
    "    fid_cost= calculate_frechet_distance(mu_1,sigma_1,mu_2,sigma_2) *0.01\n",
    "\n",
    "    alif =0.1\n",
    "\n",
    "    reward =    obs_dis*(1-alif) -alif* fid_cost\n",
    "    # reward =    obs_dis\n",
    "    # reward = obs_reward\n",
    "    # reward =   - fid_cost\n",
    "    # reward =    obs_reward*(1-alif) -alif* fid_cost\n",
    "    return reward\n"
   ]
  },
  {
   "cell_type": "code",
   "execution_count": 128,
   "id": "9fddbd8e",
   "metadata": {},
   "outputs": [],
   "source": [
    "from torch.distributions.multivariate_normal import MultivariateNormal\n",
    "\n",
    "\n",
    "class Actor(nn.Module):\n",
    "    def __init__(self, n_states, n_actions):\n",
    "        super(Actor, self).__init__()\n",
    "        self.stds = torch.Tensor([ 0.1,  0.1, 0.01])\n",
    "      \n",
    "        self.actor = nn.Sequential(\n",
    "            nn.Linear(n_states, 8),\n",
    "            nn.Tanh(),\n",
    "            nn.Linear(8, 8),\n",
    "            nn.Tanh(),\n",
    "            nn.Linear(8, n_actions),\n",
    "            nn.Sigmoid()\n",
    "            )\n",
    "\n",
    "    def forward(self, state):\n",
    "        # out = layers.Lambda(get_range, arguments={'maxx': 30, 'minn': -20})(sigmoid_output)\n",
    "        mu= self.actor(state)\n",
    "        k=torch.Tensor([10,10,1])\n",
    "        dist = MultivariateNormal(loc=mu*k,scale_tril=torch.diag(self.stds) )\n",
    "#         dist = torch.distributions.Normal(loc=mu*k, scale=self.stds)\n",
    "#         dist= dist.sample() \n",
    "        return dist"
   ]
  },
  {
   "cell_type": "code",
   "execution_count": 129,
   "id": "87768b87",
   "metadata": {},
   "outputs": [
    {
     "name": "stdout",
     "output_type": "stream",
     "text": [
      "MultivariateNormal(loc: torch.Size([3]), scale_tril: torch.Size([3, 3]))\n"
     ]
    }
   ],
   "source": [
    "act_0 = Actor(6,3)\n",
    "state= torch.tensor([1,2,3,4,5,6],dtype=torch.float)\n",
    "\n",
    "\n",
    "\n",
    "# state = torch.tensor(a, dtype=torch.float).to('cpu') \n",
    "dist=act_0(state)\n",
    "print(dist)"
   ]
  },
  {
   "cell_type": "code",
   "execution_count": 130,
   "id": "cf893cf9",
   "metadata": {},
   "outputs": [
    {
     "name": "stdout",
     "output_type": "stream",
     "text": [
      "tensor([5.5867, 6.2083, 0.5637])\n",
      "tensor(6.0876, grad_fn=<SubBackward0>)\n"
     ]
    }
   ],
   "source": [
    "action = dist.sample() \n",
    "prob = dist.log_prob(action)\n",
    "print(action)\n",
    "print(prob)"
   ]
  },
  {
   "cell_type": "code",
   "execution_count": 132,
   "id": "3cd3ae04",
   "metadata": {},
   "outputs": [
    {
     "name": "stdout",
     "output_type": "stream",
     "text": [
      "1.13.0+cu117\n",
      "11.7\n",
      "False\n",
      "1\n"
     ]
    },
    {
     "name": "stderr",
     "output_type": "stream",
     "text": [
      "/home/zhiyuan/anaconda3/envs/base_env/lib/python3.8/site-packages/torch/cuda/__init__.py:88: UserWarning: CUDA initialization: CUDA unknown error - this may be due to an incorrectly set up environment, e.g. changing env variable CUDA_VISIBLE_DEVICES after program start. Setting the available devices to be zero. (Triggered internally at ../c10/cuda/CUDAFunctions.cpp:109.)\n",
      "  return torch._C._cuda_getDeviceCount() > 0\n"
     ]
    }
   ],
   "source": [
    "import torch\n",
    "print(torch.__version__)#查看torch版本\n",
    "\n",
    "print(torch.version.cuda)#查看cuda版本\n",
    "\n",
    "print(torch.cuda.is_available())#查看cuda是否可用\n",
    "#####返回True说明配置成功\n",
    "print(torch.cuda.device_count())#查看可用cuda数量\n"
   ]
  },
  {
   "cell_type": "code",
   "execution_count": 127,
   "id": "17f46fde",
   "metadata": {},
   "outputs": [
    {
     "ename": "TypeError",
     "evalue": "can't convert np.ndarray of type numpy.object_. The only supported types are: float64, float32, float16, complex64, complex128, int64, int32, int16, int8, uint8, and bool.",
     "output_type": "error",
     "traceback": [
      "\u001b[0;31m---------------------------------------------------------------------------\u001b[0m",
      "\u001b[0;31mTypeError\u001b[0m                                 Traceback (most recent call last)",
      "Input \u001b[0;32mIn [127]\u001b[0m, in \u001b[0;36m<cell line: 10>\u001b[0;34m()\u001b[0m\n\u001b[1;32m      6\u001b[0m old_probs_arr\u001b[38;5;241m=\u001b[39mnp\u001b[38;5;241m.\u001b[39marray(prob_list)\n\u001b[1;32m      9\u001b[0m batch \u001b[38;5;241m=\u001b[39m np\u001b[38;5;241m.\u001b[39marray([\u001b[38;5;241m0\u001b[39m,\u001b[38;5;241m1\u001b[39m])\n\u001b[0;32m---> 10\u001b[0m old_probs \u001b[38;5;241m=\u001b[39m \u001b[43mtorch\u001b[49m\u001b[38;5;241;43m.\u001b[39;49m\u001b[43mtensor\u001b[49m\u001b[43m(\u001b[49m\u001b[43mold_probs_arr\u001b[49m\u001b[43m[\u001b[49m\u001b[43mbatch\u001b[49m\u001b[43m]\u001b[49m\u001b[43m)\u001b[49m\u001b[38;5;241m.\u001b[39mto(\u001b[38;5;28mself\u001b[39m\u001b[38;5;241m.\u001b[39mdevice)\n",
      "\u001b[0;31mTypeError\u001b[0m: can't convert np.ndarray of type numpy.object_. The only supported types are: float64, float32, float16, complex64, complex128, int64, int32, int16, int8, uint8, and bool."
     ]
    }
   ],
   "source": [
    "prob_list=[]\n",
    "prob_list.append(prob)\n",
    "prob_list.append(prob)\n",
    "prob_list.append(prob)\n",
    "\n",
    "old_probs_arr=np.array(prob_list)\n",
    "\n",
    "\n",
    "batch = np.array([0,1])\n",
    "old_probs = torch.tensor(old_probs_arr[batch]).to(self.device)"
   ]
  },
  {
   "cell_type": "code",
   "execution_count": null,
   "id": "5fa3b664",
   "metadata": {},
   "outputs": [],
   "source": [
    "dist = MultivariateNormal(mean, self.cov_mat)"
   ]
  },
  {
   "cell_type": "code",
   "execution_count": null,
   "id": "26386524",
   "metadata": {},
   "outputs": [],
   "source": [
    "from torch.distributions.multivariate_normal import MultivariateNormal\n",
    "dist = MultivariateNormal(loc=mu*k,scale_tril=torch.diag(self.stds) )"
   ]
  },
  {
   "cell_type": "code",
   "execution_count": null,
   "id": "5564cdc8",
   "metadata": {},
   "outputs": [],
   "source": []
  },
  {
   "cell_type": "code",
   "execution_count": 90,
   "id": "e1ade5d9",
   "metadata": {},
   "outputs": [],
   "source": [
    "class PPOmemory:\n",
    "    def __init__(self, mini_batch_size):\n",
    "        self.states = []  # 状态\n",
    "        self.actions = []  # 实际采取的动作\n",
    "        self.probs = []  # 动作概率\n",
    "        self.vals = []  # critic输出的状态值\n",
    "        self.rewards = []  # 奖励\n",
    "        self.dones = []  # 结束标志\n",
    "\n",
    "        self.mini_batch_size = mini_batch_size  # minibatch的大小\n",
    "\n",
    "    def sample(self):\n",
    "        n_states = len(self.states)  # memory记录数量=20\n",
    "        batch_start = np.arange(0, n_states, self.mini_batch_size)  # 每个batch开始的位置[0,5,10,15]\n",
    "        indices = np.arange(n_states, dtype=np.int64)  # 记录编号[0,1,2....19]\n",
    "        np.random.shuffle(indices)  # 打乱编号顺序[3,1,9,11....18]\n",
    "        mini_batches = [indices[i:i + self.mini_batch_size] for i in batch_start]  # 生成4个minibatch，每个minibatch记录乱序且不重复\n",
    "\n",
    "        return np.array(self.states), np.array(self.actions), np.array(self.probs), \\\n",
    "               np.array(self.vals), np.array(self.rewards), np.array(self.dones), mini_batches\n",
    "\n",
    "    # 每一步都存储trace到memory\n",
    "    def push(self, state, action, prob, val, reward, done):\n",
    "        self.states.append(state)\n",
    "        self.actions.append(action)\n",
    "        self.probs.append(prob)\n",
    "        self.vals.append(val)\n",
    "        self.rewards.append(reward)\n",
    "        self.dones.append(done)\n",
    "\n",
    "    # 固定步长更新完网络后清空memory\n",
    "    def clear(self):\n",
    "        self.states = []\n",
    "        self.actions = []\n",
    "        self.probs = []\n",
    "        self.vals = []\n",
    "        self.rewards = []\n",
    "        self.dones = []\n"
   ]
  },
  {
   "cell_type": "code",
   "execution_count": 91,
   "id": "5f6aa8d1",
   "metadata": {},
   "outputs": [],
   "source": [
    "ppomemory=PPOmemory(5)"
   ]
  },
  {
   "cell_type": "code",
   "execution_count": 93,
   "id": "06e1cc70",
   "metadata": {},
   "outputs": [],
   "source": [
    "n_states = 20  # memory记录数量=20\n",
    "batch_start = np.arange(0, 20, 5)  # 每个batch开始的位置[0,5,10,15]\n",
    "indices = np.arange(20, dtype=np.int64)  # 记录编号[0,1,2....19]\n",
    "np.random.shuffle(indices)  # 打乱编号顺序[3,1,9,11....18]\n",
    "mini_batches = [indices[i:i + 5] for i in batch_start]"
   ]
  },
  {
   "cell_type": "code",
   "execution_count": 94,
   "id": "33c9efa9",
   "metadata": {},
   "outputs": [
    {
     "data": {
      "text/plain": [
       "[array([18,  5,  7,  0,  2]),\n",
       " array([ 6, 10,  1, 19,  4]),\n",
       " array([ 8,  3, 12, 16, 13]),\n",
       " array([14,  9, 15, 11, 17])]"
      ]
     },
     "execution_count": 94,
     "metadata": {},
     "output_type": "execute_result"
    }
   ],
   "source": [
    "mini_batches"
   ]
  },
  {
   "cell_type": "code",
   "execution_count": 96,
   "id": "401371f8",
   "metadata": {},
   "outputs": [
    {
     "data": {
      "text/plain": [
       "tensor([[1., 1., 3., 4.],\n",
       "        [1., 1., 3., 4.],\n",
       "        [1., 1., 3., 4.]])"
      ]
     },
     "execution_count": 96,
     "metadata": {},
     "output_type": "execute_result"
    }
   ],
   "source": [
    "a = torch.ones(3,4)\n",
    "\n",
    "b = torch.Tensor([1,1,3,4])\n",
    "\n",
    "a*b\n",
    "\n"
   ]
  },
  {
   "cell_type": "code",
   "execution_count": 108,
   "id": "433697db",
   "metadata": {},
   "outputs": [],
   "source": [
    "via_point= np.zeros(3)\n",
    "via_point = via_point.reshape([-1,3])"
   ]
  },
  {
   "cell_type": "code",
   "execution_count": 109,
   "id": "1b28f45c",
   "metadata": {},
   "outputs": [],
   "source": [
    "q_cond =np.zeros([2+via_point.shape[0],2])"
   ]
  },
  {
   "cell_type": "code",
   "execution_count": 110,
   "id": "a6c319eb",
   "metadata": {},
   "outputs": [
    {
     "data": {
      "text/plain": [
       "(3, 2)"
      ]
     },
     "execution_count": 110,
     "metadata": {},
     "output_type": "execute_result"
    }
   ],
   "source": [
    "q_cond.shape"
   ]
  },
  {
   "cell_type": "code",
   "execution_count": 111,
   "id": "4c454919",
   "metadata": {},
   "outputs": [
    {
     "data": {
      "text/plain": [
       "(1, 3)"
      ]
     },
     "execution_count": 111,
     "metadata": {},
     "output_type": "execute_result"
    }
   ],
   "source": [
    "via_point.shape"
   ]
  },
  {
   "cell_type": "code",
   "execution_count": 112,
   "id": "88428b13",
   "metadata": {},
   "outputs": [
    {
     "data": {
      "text/plain": [
       "array([0., 0.])"
      ]
     },
     "execution_count": 112,
     "metadata": {},
     "output_type": "execute_result"
    }
   ],
   "source": [
    "via_point[0,:2]"
   ]
  },
  {
   "cell_type": "code",
   "execution_count": null,
   "id": "d9611d2b",
   "metadata": {},
   "outputs": [],
   "source": []
  }
 ],
 "metadata": {
  "kernelspec": {
   "display_name": "base_env",
   "language": "python",
   "name": "base_env"
  },
  "language_info": {
   "codemirror_mode": {
    "name": "ipython",
    "version": 3
   },
   "file_extension": ".py",
   "mimetype": "text/x-python",
   "name": "python",
   "nbconvert_exporter": "python",
   "pygments_lexer": "ipython3",
   "version": "3.8.5"
  }
 },
 "nbformat": 4,
 "nbformat_minor": 5
}
